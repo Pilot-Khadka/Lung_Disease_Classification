{
  "nbformat": 4,
  "nbformat_minor": 0,
  "metadata": {
    "colab": {
      "provenance": [],
      "include_colab_link": true
    },
    "kernelspec": {
      "name": "python3",
      "display_name": "Python 3"
    },
    "language_info": {
      "name": "python"
    },
    "accelerator": "GPU",
    "gpuClass": "standard"
  },
  "cells": [
    {
      "cell_type": "markdown",
      "metadata": {
        "id": "view-in-github",
        "colab_type": "text"
      },
      "source": [
        "<a href=\"https://colab.research.google.com/github/Pilot-Khadka/Lung_Disease_Classification/blob/train_small_dataset/main.ipynb\" target=\"_parent\"><img src=\"https://colab.research.google.com/assets/colab-badge.svg\" alt=\"Open In Colab\"/></a>"
      ]
    },
    {
      "cell_type": "code",
      "source": [
        "from google.colab import drive\n",
        "drive.mount(\"/content/drive\")"
      ],
      "metadata": {
        "id": "BwTIpn9RaPTF",
        "colab": {
          "base_uri": "https://localhost:8080/"
        },
        "outputId": "a09a6580-4501-4bf7-af8d-e22aebd4fca8"
      },
      "execution_count": null,
      "outputs": [
        {
          "output_type": "stream",
          "name": "stdout",
          "text": [
            "Mounted at /content/drive\n"
          ]
        }
      ]
    },
    {
      "cell_type": "code",
      "source": [
        "%ls"
      ],
      "metadata": {
        "id": "7hkEnzN8h14U",
        "outputId": "034599ed-80d1-4b3b-de3b-942dc94510a2",
        "colab": {
          "base_uri": "https://localhost:8080/"
        }
      },
      "execution_count": null,
      "outputs": [
        {
          "output_type": "stream",
          "name": "stdout",
          "text": [
            "\u001b[0m\u001b[01;34msample_data\u001b[0m/\n"
          ]
        }
      ]
    },
    {
      "cell_type": "markdown",
      "source": [
        "# Importing all libraries. Add libraries here"
      ],
      "metadata": {
        "id": "79vF-scIb8Yr"
      }
    },
    {
      "cell_type": "code",
      "source": [
        "import os\n",
        "import shutil\n",
        "import zipfile\n",
        "import requests\n",
        "import matplotlib.pyplot as plt\n",
        "from tqdm.autonotebook import tqdm\n",
        "\n",
        "%matplotlib inline\n",
        "os.chdir(\"/content/drive/MyDrive\")\n",
        "!pip install black[jupyter] --quiet"
      ],
      "metadata": {
        "id": "m6hSdqkdb7O_",
        "colab": {
          "base_uri": "https://localhost:8080/"
        },
        "outputId": "4b1e639f-6eb8-4da6-8deb-aee08eb25483"
      },
      "execution_count": null,
      "outputs": [
        {
          "output_type": "stream",
          "name": "stderr",
          "text": [
            "<ipython-input-1-aa1268f6ed7b>:6: TqdmExperimentalWarning: Using `tqdm.autonotebook.tqdm` in notebook mode. Use `tqdm.tqdm` instead to force console mode (e.g. in jupyter console)\n",
            "  from tqdm.autonotebook import tqdm\n"
          ]
        }
      ]
    },
    {
      "cell_type": "code",
      "source": [
        "os.getcwd()\n",
        "!black /content/drive/MyDrive/Colab\\ Notebooks/sandbox.ipynb"
      ],
      "metadata": {
        "colab": {
          "base_uri": "https://localhost:8080/"
        },
        "id": "ARzKCmym-vAx",
        "outputId": "47c6125e-8a9c-4422-f7c0-1f64086ae23f"
      },
      "execution_count": null,
      "outputs": [
        {
          "output_type": "stream",
          "name": "stdout",
          "text": [
            "\u001b[1mAll done! ✨ 🍰 ✨\u001b[0m\n",
            "\u001b[34m1 file \u001b[0mleft unchanged.\n"
          ]
        }
      ]
    },
    {
      "cell_type": "code",
      "source": [
        "# create second folder called Dataset2 for undersampling using 1094 images for each class\n",
        "import os\n",
        "import random\n",
        "import shutil\n",
        "from concurrent.futures import ThreadPoolExecutor, as_completed\n",
        "\n",
        "# Set the source and destination folders\n",
        "src_folder = '/content/drive/MyDrive/Dataset'\n",
        "dst_folder = '/content/drive/MyDrive/Dataset2'\n",
        "flag = True\n",
        "\n",
        "# create the destination folder\n",
        "if not os.path.exists(dst_folder):\n",
        "    os.mkdir(dst_folder)\n",
        "else:\n",
        "    print(f\"{dst_folder} already exist\")\n",
        "    flag = False\n",
        "\n",
        "# create 3 subfolders in the destination folder if they do not exist\n",
        "sub_folders = ['Normal', 'pnemo', 'tb']\n",
        "for sub_folder in sub_folders:\n",
        "    dst_path = os.path.join(dst_folder, sub_folder)\n",
        "    if not os.path.exists(dst_path):\n",
        "        os.mkdir(dst_path)\n",
        "\n",
        "def copy_file(src_file, dst_file):\n",
        "    shutil.copy2(src_file, dst_file)\n",
        "\n",
        "if flag:\n",
        "# copy 1094 random files from the source folders to the destination folders\n",
        "    with ThreadPoolExecutor() as executor:\n",
        "        for sub_folder in sub_folders:\n",
        "            src_path = os.path.join(src_folder, sub_folder)\n",
        "            dst_path = os.path.join(dst_folder, sub_folder)\n",
        "            files = os.listdir(src_path)\n",
        "            selected_files = random.sample(files, 1094)\n",
        "            for file in selected_files:\n",
        "                src_file = os.path.join(src_path, file)\n",
        "                dst_file = os.path.join(dst_path)\n",
        "                executor.submit(copy_file, src_file, dst_file)\n",
        "\n",
        "\n",
        "# Print the number of files in each subfolder\n",
        "for sub_folder in sub_folders:\n",
        "    dst_path = os.path.join(dst_folder, sub_folder)\n",
        "    files = os.listdir(dst_path)\n",
        "    print(f\"Number of files in {dst_path}: {len(files)}\")\n"
      ],
      "metadata": {
        "colab": {
          "base_uri": "https://localhost:8080/"
        },
        "outputId": "9fdd360d-7920-4c39-8e69-93dc9c0756dc",
        "id": "Q1DEnrcFhxuk"
      },
      "execution_count": null,
      "outputs": [
        {
          "output_type": "stream",
          "name": "stdout",
          "text": [
            "/content/drive/MyDrive/Dataset2 already exists. Not copying files.\n",
            "Number of files in /content/drive/MyDrive/Dataset2/Normal: 1094\n",
            "Number of files in /content/drive/MyDrive/Dataset2/pnemo: 1094\n",
            "Number of files in /content/drive/MyDrive/Dataset2/tb: 1094\n"
          ]
        }
      ]
    },
    {
      "cell_type": "code",
      "source": [
        "import tensorflow as tf\n",
        "from tensorflow import keras\n",
        "from tensorflow.keras.preprocessing import image_dataset_from_directory\n",
        "\n",
        "batch_size = 32\n",
        "img_width = 224\n",
        "img_height = 224\n",
        "train_validation_seed = 3\n",
        "\n",
        "data_dir = \"/content/drive/MyDrive/Dataset2\"\n",
        "class_names = [\"Normal\", \"Pneumonia\", \"TB\"]\n",
        "\n",
        "\n",
        "train_ds = tf.keras.utils.image_dataset_from_directory(\n",
        "    data_dir,\n",
        "    validation_split=0.3,\n",
        "     subset=\"training\",\n",
        "     seed=train_validation_seed,\n",
        "     image_size=(img_height, img_width),\n",
        "     batch_size=batch_size)\n",
        "\n",
        "\n",
        "val_ds = tf.keras.utils.image_dataset_from_directory(\n",
        "    data_dir,\n",
        "    validation_split = 0.3,\n",
        "    subset = \"validation\",\n",
        "    seed = train_validation_seed,\n",
        "    image_size=(img_height, img_width),\n",
        "    batch_size=batch_size)\n",
        "\n",
        "val_batches = tf.data.experimental.cardinality(val_ds)\n",
        "test_ds = val_ds.take((1*val_batches) // 3)\n",
        "val_ds = val_ds.skip((1*val_batches) // 3)"
      ],
      "metadata": {
        "id": "y18U_47IxVRs",
        "colab": {
          "base_uri": "https://localhost:8080/"
        },
        "outputId": "1e8a6059-afcd-428b-89e2-eb5e2c810208"
      },
      "execution_count": null,
      "outputs": [
        {
          "output_type": "stream",
          "name": "stdout",
          "text": [
            "Found 3282 files belonging to 3 classes.\n",
            "Using 2298 files for training.\n",
            "Found 3282 files belonging to 3 classes.\n",
            "Using 984 files for validation.\n"
          ]
        }
      ]
    },
    {
      "cell_type": "code",
      "source": [
        "class_names = train_ds.class_names\n",
        "print(class_names)"
      ],
      "metadata": {
        "colab": {
          "base_uri": "https://localhost:8080/"
        },
        "id": "5EmeTB3ovSF9",
        "outputId": "e4cd701b-e311-49d9-a494-6afc5604c549"
      },
      "execution_count": null,
      "outputs": [
        {
          "output_type": "stream",
          "name": "stdout",
          "text": [
            "['Normal', 'pnemo', 'tb']\n"
          ]
        }
      ]
    },
    {
      "cell_type": "code",
      "source": [
        "# Normalizing the dateset \n",
        "def process(image, label):\n",
        "  image = tf.cast(image/255., tf.float32)\n",
        "  return image, label\n",
        "\n",
        "train_ds = train_ds.map(process)\n",
        "val_ds = val_ds.map(process)\n",
        "train_ds = train_ds.shuffle(2298, reshuffle_each_iteration=False)\n",
        "val_ds = val_ds.shuffle(984,reshuffle_each_iteration=False)\n",
        "\n",
        "print(tf.data.experimental.cardinality(train_ds).numpy())\n",
        "print(tf.data.experimental.cardinality(val_ds).numpy())"
      ],
      "metadata": {
        "id": "WqmT6y5nvSBN",
        "colab": {
          "base_uri": "https://localhost:8080/"
        },
        "outputId": "2ced8507-657d-404c-ba29-a1ee891ff93e"
      },
      "execution_count": null,
      "outputs": [
        {
          "output_type": "stream",
          "name": "stdout",
          "text": [
            "72\n",
            "21\n"
          ]
        }
      ]
    },
    {
      "cell_type": "code",
      "source": [
        "# using prefetch\n",
        "AUTOTUNE = tf.data.AUTOTUNE\n",
        "\n",
        "train_ds = train_ds.cache().prefetch(buffer_size=AUTOTUNE)\n",
        "val_ds = val_ds.cache().prefetch(buffer_size=AUTOTUNE)"
      ],
      "metadata": {
        "id": "vnnBhi6owAeV"
      },
      "execution_count": null,
      "outputs": []
    },
    {
      "cell_type": "code",
      "source": [
        "base_model = tf.keras.applications.InceptionV3(\n",
        "    include_top=False,\n",
        "    weights=\"imagenet\",\n",
        "    input_tensor=None,\n",
        "    input_shape=(224, 224, 3),\n",
        "    pooling=None,\n",
        "    classes=1000,\n",
        "    classifier_activation=\"softmax\",\n",
        ")\n",
        "base_model.trainable = False"
      ],
      "metadata": {
        "id": "d9AEykTqvR-y",
        "colab": {
          "base_uri": "https://localhost:8080/"
        },
        "outputId": "1f341133-fd33-4d52-8735-335a8613f9ee"
      },
      "execution_count": null,
      "outputs": [
        {
          "output_type": "stream",
          "name": "stdout",
          "text": [
            "Downloading data from https://storage.googleapis.com/tensorflow/keras-applications/inception_v3/inception_v3_weights_tf_dim_ordering_tf_kernels_notop.h5\n",
            "87910968/87910968 [==============================] - 5s 0us/step\n"
          ]
        }
      ]
    },
    {
      "cell_type": "code",
      "source": [
        "model = keras.Sequential()\n",
        "\n",
        "model.add(base_model)\n",
        "model.add(keras.layers.GlobalAveragePooling2D())\n",
        "model.add(keras.layers.Dropout(0.2))\n",
        "model.add(keras.layers.Dense(3, activation=\"softmax\"))"
      ],
      "metadata": {
        "id": "3WbJLnjSvR8U"
      },
      "execution_count": null,
      "outputs": []
    },
    {
      "cell_type": "code",
      "source": [
        "model.summary()"
      ],
      "metadata": {
        "colab": {
          "base_uri": "https://localhost:8080/"
        },
        "id": "T142-irgvR6I",
        "outputId": "44f7ec39-4963-4cf5-a669-d71e0e32d8d0"
      },
      "execution_count": null,
      "outputs": [
        {
          "output_type": "stream",
          "name": "stdout",
          "text": [
            "Model: \"sequential\"\n",
            "_________________________________________________________________\n",
            " Layer (type)                Output Shape              Param #   \n",
            "=================================================================\n",
            " inception_v3 (Functional)   (None, 5, 5, 2048)        21802784  \n",
            "                                                                 \n",
            " global_average_pooling2d (G  (None, 2048)             0         \n",
            " lobalAveragePooling2D)                                          \n",
            "                                                                 \n",
            " dropout (Dropout)           (None, 2048)              0         \n",
            "                                                                 \n",
            " dense (Dense)               (None, 3)                 6147      \n",
            "                                                                 \n",
            "=================================================================\n",
            "Total params: 21,808,931\n",
            "Trainable params: 6,147\n",
            "Non-trainable params: 21,802,784\n",
            "_________________________________________________________________\n"
          ]
        }
      ]
    },
    {
      "cell_type": "code",
      "source": [
        "model.compile(\n",
        "    optimizer=\"adam\",\n",
        "    loss=tf.keras.losses.SparseCategoricalCrossentropy(),\n",
        "    metrics=[\"accuracy\"],\n",
        ")"
      ],
      "metadata": {
        "id": "czeUmg3NvR3g"
      },
      "execution_count": null,
      "outputs": []
    },
    {
      "cell_type": "code",
      "source": [
        "history = model.fit(train_ds, epochs=20, validation_data=val_ds)"
      ],
      "metadata": {
        "id": "Pf5RzsYaA3Uw",
        "colab": {
          "base_uri": "https://localhost:8080/"
        },
        "outputId": "1c3a6ca9-b107-4692-902f-d7d5462a854b"
      },
      "execution_count": null,
      "outputs": [
        {
          "output_type": "stream",
          "name": "stdout",
          "text": [
            "Epoch 1/20\n",
            "72/72 [==============================] - 1008s 4s/step - loss: 0.8804 - accuracy: 0.6010 - val_loss: 0.6968 - val_accuracy: 0.7063\n",
            "Epoch 2/20\n",
            "72/72 [==============================] - 7s 91ms/step - loss: 0.6462 - accuracy: 0.7341 - val_loss: 0.6804 - val_accuracy: 0.7214\n",
            "Epoch 3/20\n",
            "72/72 [==============================] - 7s 91ms/step - loss: 0.6027 - accuracy: 0.7567 - val_loss: 0.6286 - val_accuracy: 0.7530\n",
            "Epoch 4/20\n",
            "72/72 [==============================] - 7s 92ms/step - loss: 0.5485 - accuracy: 0.7750 - val_loss: 0.6153 - val_accuracy: 0.7636\n",
            "Epoch 5/20\n",
            "72/72 [==============================] - 7s 92ms/step - loss: 0.5243 - accuracy: 0.7772 - val_loss: 0.6183 - val_accuracy: 0.7636\n",
            "Epoch 6/20\n",
            "72/72 [==============================] - 7s 92ms/step - loss: 0.4946 - accuracy: 0.7942 - val_loss: 0.5836 - val_accuracy: 0.7786\n",
            "Epoch 7/20\n",
            "72/72 [==============================] - 7s 93ms/step - loss: 0.4840 - accuracy: 0.8072 - val_loss: 0.5789 - val_accuracy: 0.7846\n",
            "Epoch 8/20\n",
            "72/72 [==============================] - 7s 94ms/step - loss: 0.4619 - accuracy: 0.8111 - val_loss: 0.6004 - val_accuracy: 0.7741\n",
            "Epoch 9/20\n",
            "72/72 [==============================] - 7s 94ms/step - loss: 0.4559 - accuracy: 0.8085 - val_loss: 0.5650 - val_accuracy: 0.7982\n",
            "Epoch 10/20\n",
            "72/72 [==============================] - 7s 94ms/step - loss: 0.4516 - accuracy: 0.8211 - val_loss: 0.5563 - val_accuracy: 0.7952\n",
            "Epoch 11/20\n",
            "72/72 [==============================] - 7s 93ms/step - loss: 0.4285 - accuracy: 0.8251 - val_loss: 0.5828 - val_accuracy: 0.7861\n",
            "Epoch 12/20\n",
            "72/72 [==============================] - 7s 92ms/step - loss: 0.4269 - accuracy: 0.8277 - val_loss: 0.5577 - val_accuracy: 0.7982\n",
            "Epoch 13/20\n",
            "72/72 [==============================] - 7s 92ms/step - loss: 0.4128 - accuracy: 0.8359 - val_loss: 0.5555 - val_accuracy: 0.7982\n",
            "Epoch 14/20\n",
            "72/72 [==============================] - 7s 92ms/step - loss: 0.3999 - accuracy: 0.8399 - val_loss: 0.5458 - val_accuracy: 0.8102\n",
            "Epoch 15/20\n",
            "72/72 [==============================] - 7s 93ms/step - loss: 0.4034 - accuracy: 0.8407 - val_loss: 0.5622 - val_accuracy: 0.7967\n",
            "Epoch 16/20\n",
            "72/72 [==============================] - 7s 95ms/step - loss: 0.3967 - accuracy: 0.8390 - val_loss: 0.5603 - val_accuracy: 0.7967\n",
            "Epoch 17/20\n",
            "72/72 [==============================] - 7s 94ms/step - loss: 0.3909 - accuracy: 0.8403 - val_loss: 0.5835 - val_accuracy: 0.7831\n",
            "Epoch 18/20\n",
            "72/72 [==============================] - 7s 94ms/step - loss: 0.4063 - accuracy: 0.8377 - val_loss: 0.5814 - val_accuracy: 0.7771\n",
            "Epoch 19/20\n",
            "72/72 [==============================] - 7s 94ms/step - loss: 0.3759 - accuracy: 0.8516 - val_loss: 0.5500 - val_accuracy: 0.8042\n",
            "Epoch 20/20\n",
            "72/72 [==============================] - 7s 94ms/step - loss: 0.3848 - accuracy: 0.8516 - val_loss: 0.5732 - val_accuracy: 0.7907\n"
          ]
        }
      ]
    },
    {
      "cell_type": "code",
      "source": [
        "# Plotting Accuracy\n",
        "import matplotlib.pyplot as plt\n",
        "\n",
        "plt.figure(figsize=(10, 8), dpi=80)\n",
        "plt.plot(history.history[\"accuracy\"], label=\"train\")\n",
        "plt.plot(history.history[\"val_accuracy\"], label=\"Validation\")\n",
        "plt.legend()\n",
        "plt.show()"
      ],
      "metadata": {
        "id": "jBY_zGsxA3Sg",
        "colab": {
          "base_uri": "https://localhost:8080/",
          "height": 533
        },
        "outputId": "c70d3864-cc9f-4539-d4f0-28869bc57d5f"
      },
      "execution_count": null,
      "outputs": [
        {
          "output_type": "display_data",
          "data": {
            "text/plain": [
              "<Figure size 800x640 with 1 Axes>"
            ],
            "image/png": "[encoded data removed]"
          },
          "metadata": {
            "needs_background": "light"
          }
        }
      ]
    },
    {
      "cell_type": "code",
      "source": [
        "# Plotting Loss\n",
        "plt.figure(figsize=(10, 8), dpi=80)\n",
        "plt.plot(history.history[\"loss\"], label=\"train\")\n",
        "plt.plot(history.history[\"val_loss\"], label=\"Validation\")\n",
        "plt.legend()\n",
        "plt.show()"
      ],
      "metadata": {
        "colab": {
          "base_uri": "https://localhost:8080/",
          "height": 533
        },
        "outputId": "680995c2-bc72-4178-d588-5d5663ed9afb",
        "id": "BLaSwd9KQCU_"
      },
      "execution_count": null,
      "outputs": [
        {
          "output_type": "display_data",
          "data": {
            "text/plain": [
              "<Figure size 800x640 with 1 Axes>"
            ],
            "image/png": "[encoded data removed]"
          },
          "metadata": {
            "needs_background": "light"
          }
        }
      ]
    },
    {
      "cell_type": "code",
      "source": [],
      "metadata": {
        "id": "sV4EUbBChxVW"
      },
      "execution_count": null,
      "outputs": []
    },
    {
      "cell_type": "code",
      "source": [],
      "metadata": {
        "id": "FDs3yCfahxTJ"
      },
      "execution_count": null,
      "outputs": []
    },
    {
      "cell_type": "code",
      "source": [
        "from keras.applications import ResNet50\n",
        "\n",
        "#Importing resnet50,preparing the base convolution \n",
        "conv_base = ResNet50(\n",
        "    weights= 'imagenet',\n",
        "    include_top = False,\n",
        "    input_shape = (224, 224,3))\n",
        "\n",
        "conv_base.trainable = False"
      ],
      "metadata": {
        "colab": {
          "base_uri": "https://localhost:8080/"
        },
        "id": "3nld_UN2brw_",
        "outputId": "d9ebe5e1-ef7b-420e-e166-f932c9866274"
      },
      "execution_count": null,
      "outputs": [
        {
          "output_type": "stream",
          "name": "stdout",
          "text": [
            "Downloading data from https://storage.googleapis.com/tensorflow/keras-applications/resnet/resnet50_weights_tf_dim_ordering_tf_kernels_notop.h5\n",
            "94765736/94765736 [==============================] - 5s 0us/step\n"
          ]
        }
      ]
    },
    {
      "cell_type": "code",
      "source": [
        "#Preaparing our model \n",
        "from keras.activations import relu, linear\n",
        "from keras.layers import Dense, Flatten \n",
        "from keras.models import Sequential\n",
        "model = Sequential()\n",
        "model.add(conv_base)\n",
        "model.add(Flatten())\n",
        "model.add(Dense(512, activation='relu'))\n",
        "model.add(Dense(3, activation= 'linear'))"
      ],
      "metadata": {
        "id": "DeSTGxJRbruX"
      },
      "execution_count": null,
      "outputs": []
    },
    {
      "cell_type": "code",
      "source": [
        "model.summary()"
      ],
      "metadata": {
        "colab": {
          "base_uri": "https://localhost:8080/"
        },
        "id": "IuOe2fSybrr_",
        "outputId": "ae9cf433-b15f-4d2e-b8f8-19908b016dea"
      },
      "execution_count": null,
      "outputs": [
        {
          "output_type": "stream",
          "name": "stdout",
          "text": [
            "Model: \"sequential\"\n",
            "_________________________________________________________________\n",
            " Layer (type)                Output Shape              Param #   \n",
            "=================================================================\n",
            " inception_v3 (Functional)   (None, 5, 5, 2048)        21802784  \n",
            "                                                                 \n",
            " global_average_pooling2d (G  (None, 2048)             0         \n",
            " lobalAveragePooling2D)                                          \n",
            "                                                                 \n",
            " dropout (Dropout)           (None, 2048)              0         \n",
            "                                                                 \n",
            " dense (Dense)               (None, 3)                 6147      \n",
            "                                                                 \n",
            "=================================================================\n",
            "Total params: 21,808,931\n",
            "Trainable params: 6,147\n",
            "Non-trainable params: 21,802,784\n",
            "_________________________________________________________________\n"
          ]
        }
      ]
    },
    {
      "cell_type": "code",
      "source": [
        "model.compile(loss= tf.keras.losses.SparseCategoricalCrossentropy(from_logits=True), \n",
        "              optimizer='adam',\n",
        "              metrics = ['accuracy']\n",
        "              )"
      ],
      "metadata": {
        "id": "qOPpcAgdbrp7"
      },
      "execution_count": null,
      "outputs": []
    },
    {
      "cell_type": "code",
      "source": [
        "#Training the Data, training with gpu\n",
        "history = model.fit(train_ds, epochs =15 , validation_data = val_ds)"
      ],
      "metadata": {
        "colab": {
          "base_uri": "https://localhost:8080/"
        },
        "id": "thiQd0ghbrne",
        "outputId": "e9f09f63-f3f3-40da-9942-40d281898e19"
      },
      "execution_count": null,
      "outputs": [
        {
          "output_type": "stream",
          "name": "stdout",
          "text": [
            "Epoch 1/15\n",
            "72/72 [==============================] - 15s 159ms/step - loss: 4.2107 - accuracy: 0.3708 - val_loss: 1.1222 - val_accuracy: 0.3389\n",
            "Epoch 2/15\n",
            "72/72 [==============================] - 9s 131ms/step - loss: 1.0510 - accuracy: 0.4748 - val_loss: 0.9422 - val_accuracy: 0.6220\n",
            "Epoch 3/15\n",
            "72/72 [==============================] - 9s 132ms/step - loss: 0.9606 - accuracy: 0.5383 - val_loss: 0.8970 - val_accuracy: 0.6401\n",
            "Epoch 4/15\n",
            "72/72 [==============================] - 10s 133ms/step - loss: 0.9089 - accuracy: 0.5744 - val_loss: 0.8774 - val_accuracy: 0.6491\n",
            "Epoch 5/15\n",
            "72/72 [==============================] - 10s 133ms/step - loss: 0.8632 - accuracy: 0.5962 - val_loss: 0.8362 - val_accuracy: 0.6672\n",
            "Epoch 6/15\n",
            "72/72 [==============================] - 10s 134ms/step - loss: 0.8231 - accuracy: 0.6214 - val_loss: 0.8012 - val_accuracy: 0.6822\n",
            "Epoch 7/15\n",
            "72/72 [==============================] - 9s 132ms/step - loss: 0.7901 - accuracy: 0.6510 - val_loss: 0.7846 - val_accuracy: 0.6958\n",
            "Epoch 8/15\n",
            "72/72 [==============================] - 10s 133ms/step - loss: 0.7570 - accuracy: 0.6649 - val_loss: 0.7421 - val_accuracy: 0.6958\n",
            "Epoch 9/15\n",
            "72/72 [==============================] - 10s 132ms/step - loss: 0.7253 - accuracy: 0.6880 - val_loss: 0.7068 - val_accuracy: 0.6973\n",
            "Epoch 10/15\n",
            "72/72 [==============================] - 9s 131ms/step - loss: 0.7013 - accuracy: 0.6980 - val_loss: 0.6831 - val_accuracy: 0.7108\n",
            "Epoch 11/15\n",
            "72/72 [==============================] - 9s 131ms/step - loss: 0.6813 - accuracy: 0.7054 - val_loss: 0.6627 - val_accuracy: 0.7169\n",
            "Epoch 12/15\n",
            "72/72 [==============================] - 9s 131ms/step - loss: 0.6640 - accuracy: 0.7137 - val_loss: 0.6489 - val_accuracy: 0.7078\n",
            "Epoch 13/15\n",
            "72/72 [==============================] - 9s 132ms/step - loss: 0.6483 - accuracy: 0.7232 - val_loss: 0.6391 - val_accuracy: 0.7139\n",
            "Epoch 14/15\n",
            "72/72 [==============================] - 9s 132ms/step - loss: 0.6343 - accuracy: 0.7319 - val_loss: 0.6316 - val_accuracy: 0.7199\n",
            "Epoch 15/15\n",
            "72/72 [==============================] - 9s 131ms/step - loss: 0.6219 - accuracy: 0.7398 - val_loss: 0.6262 - val_accuracy: 0.7199\n"
          ]
        }
      ]
    },
    {
      "cell_type": "code",
      "source": [
        "# Plotting Accuracy\n",
        "import matplotlib.pyplot as plt\n",
        "\n",
        "plt.figure(figsize=(10, 8), dpi=80)\n",
        "plt.plot(history.history[\"accuracy\"], label=\"train\")\n",
        "plt.plot(history.history[\"val_accuracy\"], label=\"Validation\")\n",
        "plt.legend()\n",
        "plt.show()"
      ],
      "metadata": {
        "colab": {
          "base_uri": "https://localhost:8080/",
          "height": 533
        },
        "id": "1HqjrI2PbrlE",
        "outputId": "992d03e7-6cb7-4359-ece3-6d8c90c1f4e9"
      },
      "execution_count": null,
      "outputs": [
        {
          "output_type": "display_data",
          "data": {
            "text/plain": [
              "<Figure size 800x640 with 1 Axes>"
            ],
            "image/png": "[encoded data removed]"
          },
          "metadata": {
            "needs_background": "light"
          }
        }
      ]
    },
    {
      "cell_type": "code",
      "source": [
        "# Plotting Loss\n",
        "plt.figure(figsize=(10, 8), dpi=80)\n",
        "plt.plot(history.history[\"loss\"], label=\"train\")\n",
        "plt.plot(history.history[\"val_loss\"], label=\"Validation\")\n",
        "plt.legend()\n",
        "plt.show()"
      ],
      "metadata": {
        "colab": {
          "base_uri": "https://localhost:8080/",
          "height": 533
        },
        "id": "972uVUIbbriy",
        "outputId": "0e796f68-49eb-4085-a687-0c271ae5a395"
      },
      "execution_count": null,
      "outputs": [
        {
          "output_type": "display_data",
          "data": {
            "text/plain": [
              "<Figure size 800x640 with 1 Axes>"
            ],
            "image/png": "[encoded data removed]"
          },
          "metadata": {
            "needs_background": "light"
          }
        }
      ]
    },
    {
      "cell_type": "code",
      "source": [],
      "metadata": {
        "id": "zTDI3h2hhxQ_"
      },
      "execution_count": null,
      "outputs": []
    },
    {
      "cell_type": "code",
      "source": [],
      "metadata": {
        "id": "R1rEAZlvhxO7"
      },
      "execution_count": null,
      "outputs": []
    },
    {
      "cell_type": "code",
      "source": [],
      "metadata": {
        "id": "XS2xBhtEhxMi"
      },
      "execution_count": null,
      "outputs": []
    },
    {
      "cell_type": "code",
      "source": [],
      "metadata": {
        "id": "OxCLulhbhxKX"
      },
      "execution_count": null,
      "outputs": []
    },
    {
      "cell_type": "code",
      "source": [],
      "metadata": {
        "id": "S-ZJ2_ychxIK"
      },
      "execution_count": null,
      "outputs": []
    },
    {
      "cell_type": "code",
      "source": [],
      "metadata": {
        "id": "5v-V5q4-hxFX"
      },
      "execution_count": null,
      "outputs": []
    },
    {
      "cell_type": "code",
      "source": [],
      "metadata": {
        "id": "0RbSvY5-hxC1"
      },
      "execution_count": null,
      "outputs": []
    }
  ]
}