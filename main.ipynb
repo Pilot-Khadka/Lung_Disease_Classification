{
  "nbformat": 4,
  "nbformat_minor": 0,
  "metadata": {
    "colab": {
      "provenance": []
    },
    "kernelspec": {
      "name": "python3",
      "display_name": "Python 3"
    },
    "language_info": {
      "name": "python"
    },
    "widgets": {
      "application/vnd.jupyter.widget-state+json": {
        "1990bb538d71461cb36c9964f83bc2b7": {
          "model_module": "@jupyter-widgets/controls",
          "model_name": "HBoxModel",
          "model_module_version": "1.5.0",
          "state": {
            "_dom_classes": [],
            "_model_module": "@jupyter-widgets/controls",
            "_model_module_version": "1.5.0",
            "_model_name": "HBoxModel",
            "_view_count": null,
            "_view_module": "@jupyter-widgets/controls",
            "_view_module_version": "1.5.0",
            "_view_name": "HBoxView",
            "box_style": "",
            "children": [
              "IPY_MODEL_c5d27671e69b44bd8a5f7d4668aab91d",
              "IPY_MODEL_71e2278fc5ed4f35a7e95dbbff479b44",
              "IPY_MODEL_c99a00339afd468aba454788e844bcad"
            ],
            "layout": "IPY_MODEL_a8e04e12ec794b88b117eec2bae39075"
          }
        },
        "c5d27671e69b44bd8a5f7d4668aab91d": {
          "model_module": "@jupyter-widgets/controls",
          "model_name": "HTMLModel",
          "model_module_version": "1.5.0",
          "state": {
            "_dom_classes": [],
            "_model_module": "@jupyter-widgets/controls",
            "_model_module_version": "1.5.0",
            "_model_name": "HTMLModel",
            "_view_count": null,
            "_view_module": "@jupyter-widgets/controls",
            "_view_module_version": "1.5.0",
            "_view_name": "HTMLView",
            "description": "",
            "description_tooltip": null,
            "layout": "IPY_MODEL_d5682d57e0c94c66b4dcb123e3035fff",
            "placeholder": "​",
            "style": "IPY_MODEL_9f9304e52c4f4a3f8663a85fc265e11b",
            "value": "100%"
          }
        },
        "71e2278fc5ed4f35a7e95dbbff479b44": {
          "model_module": "@jupyter-widgets/controls",
          "model_name": "FloatProgressModel",
          "model_module_version": "1.5.0",
          "state": {
            "_dom_classes": [],
            "_model_module": "@jupyter-widgets/controls",
            "_model_module_version": "1.5.0",
            "_model_name": "FloatProgressModel",
            "_view_count": null,
            "_view_module": "@jupyter-widgets/controls",
            "_view_module_version": "1.5.0",
            "_view_name": "ProgressView",
            "bar_style": "",
            "description": "",
            "description_tooltip": null,
            "layout": "IPY_MODEL_e7e33f78684947ab8e30b38b34dfdc9e",
            "max": 4337404517,
            "min": 0,
            "orientation": "horizontal",
            "style": "IPY_MODEL_5609b96f43294baf9efbea5185b25378",
            "value": 4337404517
          }
        },
        "c99a00339afd468aba454788e844bcad": {
          "model_module": "@jupyter-widgets/controls",
          "model_name": "HTMLModel",
          "model_module_version": "1.5.0",
          "state": {
            "_dom_classes": [],
            "_model_module": "@jupyter-widgets/controls",
            "_model_module_version": "1.5.0",
            "_model_name": "HTMLModel",
            "_view_count": null,
            "_view_module": "@jupyter-widgets/controls",
            "_view_module_version": "1.5.0",
            "_view_name": "HTMLView",
            "description": "",
            "description_tooltip": null,
            "layout": "IPY_MODEL_bec774f6341c4e189f972213f9e75810",
            "placeholder": "​",
            "style": "IPY_MODEL_35f70964ecae4d7699b2de83f3be8827",
            "value": " 4.34G/4.34G [01:30&lt;00:00, 57.5MiB/s]"
          }
        },
        "a8e04e12ec794b88b117eec2bae39075": {
          "model_module": "@jupyter-widgets/base",
          "model_name": "LayoutModel",
          "model_module_version": "1.2.0",
          "state": {
            "_model_module": "@jupyter-widgets/base",
            "_model_module_version": "1.2.0",
            "_model_name": "LayoutModel",
            "_view_count": null,
            "_view_module": "@jupyter-widgets/base",
            "_view_module_version": "1.2.0",
            "_view_name": "LayoutView",
            "align_content": null,
            "align_items": null,
            "align_self": null,
            "border": null,
            "bottom": null,
            "display": null,
            "flex": null,
            "flex_flow": null,
            "grid_area": null,
            "grid_auto_columns": null,
            "grid_auto_flow": null,
            "grid_auto_rows": null,
            "grid_column": null,
            "grid_gap": null,
            "grid_row": null,
            "grid_template_areas": null,
            "grid_template_columns": null,
            "grid_template_rows": null,
            "height": null,
            "justify_content": null,
            "justify_items": null,
            "left": null,
            "margin": null,
            "max_height": null,
            "max_width": null,
            "min_height": null,
            "min_width": null,
            "object_fit": null,
            "object_position": null,
            "order": null,
            "overflow": null,
            "overflow_x": null,
            "overflow_y": null,
            "padding": null,
            "right": null,
            "top": null,
            "visibility": null,
            "width": null
          }
        },
        "d5682d57e0c94c66b4dcb123e3035fff": {
          "model_module": "@jupyter-widgets/base",
          "model_name": "LayoutModel",
          "model_module_version": "1.2.0",
          "state": {
            "_model_module": "@jupyter-widgets/base",
            "_model_module_version": "1.2.0",
            "_model_name": "LayoutModel",
            "_view_count": null,
            "_view_module": "@jupyter-widgets/base",
            "_view_module_version": "1.2.0",
            "_view_name": "LayoutView",
            "align_content": null,
            "align_items": null,
            "align_self": null,
            "border": null,
            "bottom": null,
            "display": null,
            "flex": null,
            "flex_flow": null,
            "grid_area": null,
            "grid_auto_columns": null,
            "grid_auto_flow": null,
            "grid_auto_rows": null,
            "grid_column": null,
            "grid_gap": null,
            "grid_row": null,
            "grid_template_areas": null,
            "grid_template_columns": null,
            "grid_template_rows": null,
            "height": null,
            "justify_content": null,
            "justify_items": null,
            "left": null,
            "margin": null,
            "max_height": null,
            "max_width": null,
            "min_height": null,
            "min_width": null,
            "object_fit": null,
            "object_position": null,
            "order": null,
            "overflow": null,
            "overflow_x": null,
            "overflow_y": null,
            "padding": null,
            "right": null,
            "top": null,
            "visibility": null,
            "width": null
          }
        },
        "9f9304e52c4f4a3f8663a85fc265e11b": {
          "model_module": "@jupyter-widgets/controls",
          "model_name": "DescriptionStyleModel",
          "model_module_version": "1.5.0",
          "state": {
            "_model_module": "@jupyter-widgets/controls",
            "_model_module_version": "1.5.0",
            "_model_name": "DescriptionStyleModel",
            "_view_count": null,
            "_view_module": "@jupyter-widgets/base",
            "_view_module_version": "1.2.0",
            "_view_name": "StyleView",
            "description_width": ""
          }
        },
        "e7e33f78684947ab8e30b38b34dfdc9e": {
          "model_module": "@jupyter-widgets/base",
          "model_name": "LayoutModel",
          "model_module_version": "1.2.0",
          "state": {
            "_model_module": "@jupyter-widgets/base",
            "_model_module_version": "1.2.0",
            "_model_name": "LayoutModel",
            "_view_count": null,
            "_view_module": "@jupyter-widgets/base",
            "_view_module_version": "1.2.0",
            "_view_name": "LayoutView",
            "align_content": null,
            "align_items": null,
            "align_self": null,
            "border": null,
            "bottom": null,
            "display": null,
            "flex": null,
            "flex_flow": null,
            "grid_area": null,
            "grid_auto_columns": null,
            "grid_auto_flow": null,
            "grid_auto_rows": null,
            "grid_column": null,
            "grid_gap": null,
            "grid_row": null,
            "grid_template_areas": null,
            "grid_template_columns": null,
            "grid_template_rows": null,
            "height": null,
            "justify_content": null,
            "justify_items": null,
            "left": null,
            "margin": null,
            "max_height": null,
            "max_width": null,
            "min_height": null,
            "min_width": null,
            "object_fit": null,
            "object_position": null,
            "order": null,
            "overflow": null,
            "overflow_x": null,
            "overflow_y": null,
            "padding": null,
            "right": null,
            "top": null,
            "visibility": null,
            "width": null
          }
        },
        "5609b96f43294baf9efbea5185b25378": {
          "model_module": "@jupyter-widgets/controls",
          "model_name": "ProgressStyleModel",
          "model_module_version": "1.5.0",
          "state": {
            "_model_module": "@jupyter-widgets/controls",
            "_model_module_version": "1.5.0",
            "_model_name": "ProgressStyleModel",
            "_view_count": null,
            "_view_module": "@jupyter-widgets/base",
            "_view_module_version": "1.2.0",
            "_view_name": "StyleView",
            "bar_color": null,
            "description_width": ""
          }
        },
        "bec774f6341c4e189f972213f9e75810": {
          "model_module": "@jupyter-widgets/base",
          "model_name": "LayoutModel",
          "model_module_version": "1.2.0",
          "state": {
            "_model_module": "@jupyter-widgets/base",
            "_model_module_version": "1.2.0",
            "_model_name": "LayoutModel",
            "_view_count": null,
            "_view_module": "@jupyter-widgets/base",
            "_view_module_version": "1.2.0",
            "_view_name": "LayoutView",
            "align_content": null,
            "align_items": null,
            "align_self": null,
            "border": null,
            "bottom": null,
            "display": null,
            "flex": null,
            "flex_flow": null,
            "grid_area": null,
            "grid_auto_columns": null,
            "grid_auto_flow": null,
            "grid_auto_rows": null,
            "grid_column": null,
            "grid_gap": null,
            "grid_row": null,
            "grid_template_areas": null,
            "grid_template_columns": null,
            "grid_template_rows": null,
            "height": null,
            "justify_content": null,
            "justify_items": null,
            "left": null,
            "margin": null,
            "max_height": null,
            "max_width": null,
            "min_height": null,
            "min_width": null,
            "object_fit": null,
            "object_position": null,
            "order": null,
            "overflow": null,
            "overflow_x": null,
            "overflow_y": null,
            "padding": null,
            "right": null,
            "top": null,
            "visibility": null,
            "width": null
          }
        },
        "35f70964ecae4d7699b2de83f3be8827": {
          "model_module": "@jupyter-widgets/controls",
          "model_name": "DescriptionStyleModel",
          "model_module_version": "1.5.0",
          "state": {
            "_model_module": "@jupyter-widgets/controls",
            "_model_module_version": "1.5.0",
            "_model_name": "DescriptionStyleModel",
            "_view_count": null,
            "_view_module": "@jupyter-widgets/base",
            "_view_module_version": "1.2.0",
            "_view_name": "StyleView",
            "description_width": ""
          }
        }
      }
    }
  },
  "cells": [
    {
      "cell_type": "code",
      "source": [
        "from google.colab import drive\n",
        "drive.mount('/content/drive')"
      ],
      "metadata": {
        "colab": {
          "base_uri": "https://localhost:8080/"
        },
        "id": "BwTIpn9RaPTF",
        "outputId": "8d551739-24c8-4b58-9487-fffdb07f4976"
      },
      "execution_count": null,
      "outputs": [
        {
          "output_type": "stream",
          "name": "stdout",
          "text": [
            "Drive already mounted at /content/drive; to attempt to forcibly remount, call drive.mount(\"/content/drive\", force_remount=True).\n"
          ]
        }
      ]
    },
    {
      "cell_type": "code",
      "source": [
        "%ls"
      ],
      "metadata": {
        "id": "7hkEnzN8h14U",
        "outputId": "a8fc1437-7210-421e-c9a7-1557ac1ce584",
        "colab": {
          "base_uri": "https://localhost:8080/"
        }
      },
      "execution_count": null,
      "outputs": [
        {
          "output_type": "stream",
          "name": "stdout",
          "text": [
            "dataset.zip  \u001b[0m\u001b[01;34mdrive\u001b[0m/  \u001b[01;34msample_data\u001b[0m/\n"
          ]
        }
      ]
    },
    {
      "cell_type": "markdown",
      "source": [
        "# Importing all libraries. Add libraries here"
      ],
      "metadata": {
        "id": "79vF-scIb8Yr"
      }
    },
    {
      "cell_type": "code",
      "source": [
        "import os\n",
        "import shutil\n",
        "import zipfile\n",
        "import requests\n",
        "import matplotlib.pyplot as plt\n",
        "from tqdm.autonotebook import tqdm\n",
        "%matplotlib inline\n",
        "os.chdir('/content/drive/MyDrive')"
      ],
      "metadata": {
        "id": "m6hSdqkdb7O_"
      },
      "execution_count": null,
      "outputs": []
    },
    {
      "cell_type": "code",
      "source": [
        "os.getcwd()"
      ],
      "metadata": {
        "colab": {
          "base_uri": "https://localhost:8080/",
          "height": 36
        },
        "id": "ARzKCmym-vAx",
        "outputId": "b7012ae1-3505-480c-ffe0-368582e2dab9"
      },
      "execution_count": null,
      "outputs": [
        {
          "output_type": "execute_result",
          "data": {
            "text/plain": [
              "'/content/drive/MyDrive'"
            ],
            "application/vnd.google.colaboratory.intrinsic+json": {
              "type": "string"
            }
          },
          "metadata": {},
          "execution_count": 10
        }
      ]
    },
    {
      "cell_type": "code",
      "source": [
        "url = \"https://amitpant.com.np/dataset.zip\"\n",
        "file_name = 'dataset.zip'\n",
        "\n",
        "if not os.path.isfile(file_name):\n",
        "  resp = requests.get(url)\n",
        "\n",
        "  with open(file_name,'wb') as file:\n",
        "    total_length = int(resp.headers.get('content-length'))\n",
        "    progress_bar = tqdm(total=total_length, unit='iB', unit_scale=True)\n",
        "\n",
        "    if total_length is None:\n",
        "      for chunk in resp:\n",
        "        file.write(chunk)\n",
        "\n",
        "    else:\n",
        "      length = 0\n",
        "      total_length = int(total_length)\n",
        "\n",
        "      for chunk in resp:\n",
        "        progress_bar.update(len(chunk))\n",
        "        file.write(chunk)\n",
        "\n",
        "else:\n",
        "  print(\"File exists.\")"
      ],
      "metadata": {
        "id": "C1bkEjX7aP8e",
        "colab": {
          "base_uri": "https://localhost:8080/",
          "height": 106,
          "referenced_widgets": [
            "1990bb538d71461cb36c9964f83bc2b7",
            "c5d27671e69b44bd8a5f7d4668aab91d",
            "71e2278fc5ed4f35a7e95dbbff479b44",
            "c99a00339afd468aba454788e844bcad",
            "a8e04e12ec794b88b117eec2bae39075",
            "d5682d57e0c94c66b4dcb123e3035fff",
            "9f9304e52c4f4a3f8663a85fc265e11b",
            "e7e33f78684947ab8e30b38b34dfdc9e",
            "5609b96f43294baf9efbea5185b25378",
            "bec774f6341c4e189f972213f9e75810",
            "35f70964ecae4d7699b2de83f3be8827"
          ]
        },
        "outputId": "18ea9043-1353-4ee9-88f6-d2bad9eec273"
      },
      "execution_count": null,
      "outputs": [
        {
          "output_type": "stream",
          "name": "stderr",
          "text": [
            "<ipython-input-3-5d8b82fcfb9e>:2: TqdmExperimentalWarning: Using `tqdm.autonotebook.tqdm` in notebook mode. Use `tqdm.tqdm` instead to force console mode (e.g. in jupyter console)\n",
            "  from tqdm.autonotebook import tqdm\n"
          ]
        },
        {
          "output_type": "display_data",
          "data": {
            "text/plain": [
              "  0%|          | 0.00/4.34G [00:00<?, ?iB/s]"
            ],
            "application/vnd.jupyter.widget-view+json": {
              "version_major": 2,
              "version_minor": 0,
              "model_id": "1990bb538d71461cb36c9964f83bc2b7"
            }
          },
          "metadata": {}
        }
      ]
    },
    {
      "cell_type": "code",
      "source": [
        "# to check if all files exists, extract the zip file if the files doesn't exist\n",
        "\n",
        "Normal = os.path.join('Normal')\n",
        "TB_qatar = os.path.join('Tuberculosis-quatar')\n",
        "pnemo_png = os.path.join('pnemo_png')\n",
        "tb_shenzen = os.path.join('tb-shenzen')\n",
        "tb_montgomery = os.path.join('tb-montgomery')\n",
        "\n",
        "file_list = [Normal,TB_qatar,pnemo_png,tb_shenzen,tb_montgomery]\n",
        "flag = 0\n",
        "\n",
        "for i in file_list:\n",
        "  isExist = os.path.exists(i)\n",
        "  print(i,'exists :' ,str(isExist))\n",
        "  if not isExist:\n",
        "    flag = 1\n",
        "\n",
        "if (flag == 1): \n",
        "  for i in file_list: \n",
        "    try:\n",
        "      shutil.rmtree(os.path.join(i))\n",
        "    except OSError as e:\n",
        "      print(\"Error: %s - %s.\" % (e.filename, e.strerror))\n",
        "\n",
        "  print('Extracting Zip file:')\n",
        "  with zipfile.ZipFile(file_name , 'r') as zip_ref:\n",
        "    for member in tqdm(zip_ref.infolist(), desc='Extracting '):\n",
        "      zip_ref.extract(member)\n"
      ],
      "metadata": {
        "id": "kz-3YlklqD0d",
        "colab": {
          "base_uri": "https://localhost:8080/"
        },
        "outputId": "4b65c03b-4190-43af-bc4d-60f3539a006e"
      },
      "execution_count": null,
      "outputs": [
        {
          "output_type": "stream",
          "name": "stdout",
          "text": [
            "Normal exists : True\n",
            "Tuberculosis-quatar exists : True\n",
            "pnemo_png exists : True\n",
            "tb-shenzen exists : True\n",
            "tb-montgomery exists : True\n"
          ]
        }
      ]
    },
    {
      "cell_type": "markdown",
      "source": [
        "This code deletes all lung related folders.\n",
        "\n",
        "import shutil\n",
        "\n",
        "Normal = os.path.join('Normal')\n",
        "TB_qatar = os.path.join('Tuberculosis-quatar')\n",
        "pnemo_png = os.path.join('pnemo_png')\n",
        "tb_shenzen = os.path.join('tb-shenzen')\n",
        "tb_montgomery = os.path.join('tb-montgomery')\n",
        "\n",
        "file_list = [Normal,TB_qatar,pnemo_png,tb_shenzen,tb_montgomery]\n",
        "for i in file_list: \n",
        "    try:\n",
        "      shutil.rmtree(os.path.join(i))\n",
        "    except OSError as e:\n",
        "      print(\"Error: %s - %s.\" % (e.filename, e.strerror))"
      ],
      "metadata": {
        "id": "KSTONCHR_U7H"
      }
    },
    {
      "cell_type": "code",
      "source": [
        "plt.figure(figsize = (10, 6))\n",
        "\n",
        "plt.title('Total dataset for Pneumonia')\n",
        "plt.xlabel('Types of data')\n",
        "plt.ylabel('No. of files')\n",
        "\n",
        "x = [\"No.of Pneumonia Infected Lungs\",\"No. of Healthy Lungs\"]\n",
        "y= [sum_pneumonia, sum_normal]\n",
        "\n",
        "plt.bar(x,y,color='teal',alpha=0.7)\n",
        "\n",
        "for i in range(len(x)):\n",
        "  plt.text(i,y[i],y[i],ha = 'center')\n",
        "\n",
        "plt.show()"
      ],
      "metadata": {
        "colab": {
          "base_uri": "https://localhost:8080/",
          "height": 404
        },
        "id": "IJycb4LuaPyq",
        "outputId": "6949d8f0-9cc9-4708-b91f-08d01d794d46"
      },
      "execution_count": null,
      "outputs": [
        {
          "output_type": "display_data",
          "data": {
            "text/plain": [
              "<Figure size 720x432 with 1 Axes>"
            ],
            "image/png": "[encoded data removed]"
          },
          "metadata": {
            "needs_background": "light"
          }
        }
      ]
    },
    {
      "cell_type": "code",
      "source": [],
      "metadata": {
        "id": "lttp7QRLaPwH"
      },
      "execution_count": null,
      "outputs": []
    },
    {
      "cell_type": "code",
      "source": [],
      "metadata": {
        "id": "Enp2izova6Wy"
      },
      "execution_count": null,
      "outputs": []
    },
    {
      "cell_type": "code",
      "source": [],
      "metadata": {
        "id": "ngv3whr9a6Un"
      },
      "execution_count": null,
      "outputs": []
    },
    {
      "cell_type": "code",
      "source": [],
      "metadata": {
        "id": "G_TCral2a6SR"
      },
      "execution_count": null,
      "outputs": []
    },
    {
      "cell_type": "code",
      "source": [],
      "metadata": {
        "id": "mJzKSkama6P3"
      },
      "execution_count": null,
      "outputs": []
    },
    {
      "cell_type": "code",
      "source": [],
      "metadata": {
        "id": "fUf8XOfaa6NQ"
      },
      "execution_count": null,
      "outputs": []
    },
    {
      "cell_type": "code",
      "source": [],
      "metadata": {
        "id": "_bWQ8QxUa6LD"
      },
      "execution_count": null,
      "outputs": []
    },
    {
      "cell_type": "code",
      "source": [],
      "metadata": {
        "id": "Y_K2trmNa6Ij"
      },
      "execution_count": null,
      "outputs": []
    },
    {
      "cell_type": "code",
      "source": [],
      "metadata": {
        "id": "1DBce2n6rmR9"
      },
      "execution_count": null,
      "outputs": []
    },
    {
      "cell_type": "code",
      "source": [],
      "metadata": {
        "id": "1B-EbzirrmPS"
      },
      "execution_count": null,
      "outputs": []
    },
    {
      "cell_type": "code",
      "source": [],
      "metadata": {
        "id": "MrtB1APfrmM6"
      },
      "execution_count": null,
      "outputs": []
    },
    {
      "cell_type": "code",
      "source": [],
      "metadata": {
        "id": "pHjDHF3KrmKh"
      },
      "execution_count": null,
      "outputs": []
    },
    {
      "cell_type": "code",
      "source": [],
      "metadata": {
        "id": "899YYF00rmID"
      },
      "execution_count": null,
      "outputs": []
    },
    {
      "cell_type": "code",
      "source": [],
      "metadata": {
        "id": "FLec1r_3rmFb"
      },
      "execution_count": null,
      "outputs": []
    },
    {
      "cell_type": "code",
      "source": [],
      "metadata": {
        "id": "hrq8Zzu1rmC4"
      },
      "execution_count": null,
      "outputs": []
    },
    {
      "cell_type": "code",
      "source": [],
      "metadata": {
        "id": "WvGEiTR2rmAg"
      },
      "execution_count": null,
      "outputs": []
    },
    {
      "cell_type": "code",
      "source": [],
      "metadata": {
        "id": "0VLNZLc6rl93"
      },
      "execution_count": null,
      "outputs": []
    },
    {
      "cell_type": "code",
      "source": [],
      "metadata": {
        "id": "Gt9Kf5Jkrl7a"
      },
      "execution_count": null,
      "outputs": []
    },
    {
      "cell_type": "code",
      "source": [],
      "metadata": {
        "id": "SRrCQBBLrl4t"
      },
      "execution_count": null,
      "outputs": []
    },
    {
      "cell_type": "code",
      "source": [],
      "metadata": {
        "id": "QopdQXi_rl1_"
      },
      "execution_count": null,
      "outputs": []
    },
    {
      "cell_type": "code",
      "source": [],
      "metadata": {
        "id": "bPs6oxKPrlzO"
      },
      "execution_count": null,
      "outputs": []
    },
    {
      "cell_type": "code",
      "source": [],
      "metadata": {
        "id": "tIL7u812a6GB"
      },
      "execution_count": null,
      "outputs": []
    }
  ]
}