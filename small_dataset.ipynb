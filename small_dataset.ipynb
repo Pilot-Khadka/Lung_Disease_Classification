{
  "nbformat": 4,
  "nbformat_minor": 0,
  "metadata": {
    "colab": {
      "provenance": [],
      "include_colab_link": true
    },
    "kernelspec": {
      "name": "python3",
      "display_name": "Python 3"
    },
    "language_info": {
      "name": "python"
    },
    "accelerator": "GPU",
    "gpuClass": "standard"
  },
  "cells": [
    {
      "cell_type": "markdown",
      "metadata": {
        "id": "view-in-github",
        "colab_type": "text"
      },
      "source": [
        "<a href=\"https://colab.research.google.com/github/Pilot-Khadka/Lung_Disease_Classification/blob/train_small_dataset/small_dataset.ipynb\" target=\"_parent\"><img src=\"https://colab.research.google.com/assets/colab-badge.svg\" alt=\"Open In Colab\"/></a>"
      ]
    },
    {
      "cell_type": "code",
      "source": [
        "from google.colab import drive\n",
        "drive.mount(\"/content/drive\")"
      ],
      "metadata": {
        "id": "BwTIpn9RaPTF"
      },
      "execution_count": null,
      "outputs": []
    },
    {
      "cell_type": "code",
      "source": [
        "%ls"
      ],
      "metadata": {
        "id": "7hkEnzN8h14U",
        "outputId": "034599ed-80d1-4b3b-de3b-942dc94510a2",
        "colab": {
          "base_uri": "https://localhost:8080/"
        }
      },
      "execution_count": null,
      "outputs": [
        {
          "output_type": "stream",
          "name": "stdout",
          "text": [
            "\u001b[0m\u001b[01;34msample_data\u001b[0m/\n"
          ]
        }
      ]
    },
    {
      "cell_type": "markdown",
      "source": [
        "# Importing all libraries. Add libraries here"
      ],
      "metadata": {
        "id": "79vF-scIb8Yr"
      }
    },
    {
      "cell_type": "code",
      "source": [
        "import os\n",
        "import shutil\n",
        "import zipfile\n",
        "import requests\n",
        "import matplotlib.pyplot as plt\n",
        "from tqdm.autonotebook import tqdm\n",
        "\n",
        "%matplotlib inline\n",
        "os.chdir(\"/content/drive/MyDrive\")\n",
        "!pip install black[jupyter] --quiet"
      ],
      "metadata": {
        "id": "m6hSdqkdb7O_"
      },
      "execution_count": null,
      "outputs": []
    },
    {
      "cell_type": "code",
      "source": [
        "os.getcwd()\n",
        "!black /content/drive/MyDrive/Colab\\ Notebooks/sandbox.ipynb"
      ],
      "metadata": {
        "colab": {
          "base_uri": "https://localhost:8080/"
        },
        "id": "ARzKCmym-vAx",
        "outputId": "47c6125e-8a9c-4422-f7c0-1f64086ae23f"
      },
      "execution_count": null,
      "outputs": [
        {
          "output_type": "stream",
          "name": "stdout",
          "text": [
            "\u001b[1mAll done! ✨ 🍰 ✨\u001b[0m\n",
            "\u001b[34m1 file \u001b[0mleft unchanged.\n"
          ]
        }
      ]
    },
    {
      "cell_type": "code",
      "source": [
        "# create second folder called Dataset2 for undersampling using 1094 images for each class\n",
        "import os\n",
        "import random\n",
        "import shutil\n",
        "from concurrent.futures import ThreadPoolExecutor, as_completed\n",
        "\n",
        "# Set the source and destination folders\n",
        "src_folder = '/content/drive/MyDrive/Dataset'\n",
        "dst_folder = '/content/drive/MyDrive/Dataset2'\n",
        "flag = True\n",
        "\n",
        "# create the destination folder\n",
        "if not os.path.exists(dst_folder):\n",
        "    os.mkdir(dst_folder)\n",
        "else:\n",
        "    print(f\"{dst_folder} already exist\")\n",
        "    flag = False\n",
        "\n",
        "# create 3 subfolders in the destination folder if they do not exist\n",
        "sub_folders = ['Normal', 'pnemo', 'tb']\n",
        "for sub_folder in sub_folders:\n",
        "    dst_path = os.path.join(dst_folder, sub_folder)\n",
        "    if not os.path.exists(dst_path):\n",
        "        os.mkdir(dst_path)\n",
        "\n",
        "def copy_file(src_file, dst_file):\n",
        "    shutil.copy2(src_file, dst_file)\n",
        "\n",
        "if flag:\n",
        "# copy 1094 random files from the source folders to the destination folders\n",
        "    with ThreadPoolExecutor() as executor:\n",
        "        for sub_folder in sub_folders:\n",
        "            src_path = os.path.join(src_folder, sub_folder)\n",
        "            dst_path = os.path.join(dst_folder, sub_folder)\n",
        "            files = os.listdir(src_path)\n",
        "            selected_files = random.sample(files, 1094)\n",
        "            for file in selected_files:\n",
        "                src_file = os.path.join(src_path, file)\n",
        "                dst_file = os.path.join(dst_path)\n",
        "                executor.submit(copy_file, src_file, dst_file)\n",
        "\n",
        "\n",
        "# Print the number of files in each subfolder\n",
        "for sub_folder in sub_folders:\n",
        "    dst_path = os.path.join(dst_folder, sub_folder)\n",
        "    files = os.listdir(dst_path)\n",
        "    print(f\"Number of files in {dst_path}: {len(files)}\")\n"
      ],
      "metadata": {
        "colab": {
          "base_uri": "https://localhost:8080/"
        },
        "outputId": "9fdd360d-7920-4c39-8e69-93dc9c0756dc",
        "id": "Q1DEnrcFhxuk"
      },
      "execution_count": null,
      "outputs": [
        {
          "output_type": "stream",
          "name": "stdout",
          "text": [
            "/content/drive/MyDrive/Dataset2 already exists. Not copying files.\n",
            "Number of files in /content/drive/MyDrive/Dataset2/Normal: 1094\n",
            "Number of files in /content/drive/MyDrive/Dataset2/pnemo: 1094\n",
            "Number of files in /content/drive/MyDrive/Dataset2/tb: 1094\n"
          ]
        }
      ]
    },
    {
      "cell_type": "code",
      "source": [
        "import tensorflow as tf\n",
        "from tensorflow import keras\n",
        "from tensorflow.keras.preprocessing import image_dataset_from_directory\n",
        "\n",
        "batch_size = 32\n",
        "img_width = 224\n",
        "img_height = 224\n",
        "train_validation_seed = 3\n",
        "\n",
        "data_dir = \"/content/drive/MyDrive/Dataset2\"\n",
        "class_names = [\"Normal\", \"Pneumonia\", \"TB\"]\n",
        "\n",
        "\n",
        "train_ds = tf.keras.utils.image_dataset_from_directory(\n",
        "    data_dir,\n",
        "    validation_split=0.3,\n",
        "     subset=\"training\",\n",
        "     seed=train_validation_seed,\n",
        "     image_size=(img_height, img_width),\n",
        "     batch_size=batch_size)\n",
        "\n",
        "\n",
        "val_ds = tf.keras.utils.image_dataset_from_directory(\n",
        "    data_dir,\n",
        "    validation_split = 0.3,\n",
        "    subset = \"validation\",\n",
        "    seed = train_validation_seed,\n",
        "    image_size=(img_height, img_width),\n",
        "    batch_size=batch_size)\n",
        "\n",
        "val_batches = tf.data.experimental.cardinality(val_ds)\n",
        "test_ds = val_ds.take((1*val_batches) // 3)\n",
        "val_ds = val_ds.skip((1*val_batches) // 3)"
      ],
      "metadata": {
        "id": "y18U_47IxVRs",
        "colab": {
          "base_uri": "https://localhost:8080/"
        },
        "outputId": "a0b06581-dd95-466e-a26f-625ec0438472"
      },
      "execution_count": 4,
      "outputs": [
        {
          "output_type": "stream",
          "name": "stdout",
          "text": [
            "Found 3282 files belonging to 3 classes.\n",
            "Using 2298 files for training.\n",
            "Found 3282 files belonging to 3 classes.\n",
            "Using 984 files for validation.\n"
          ]
        }
      ]
    },
    {
      "cell_type": "code",
      "source": [
        "class_names = train_ds.class_names\n",
        "print(class_names)"
      ],
      "metadata": {
        "colab": {
          "base_uri": "https://localhost:8080/"
        },
        "id": "5EmeTB3ovSF9",
        "outputId": "e4cd701b-e311-49d9-a494-6afc5604c549"
      },
      "execution_count": null,
      "outputs": [
        {
          "output_type": "stream",
          "name": "stdout",
          "text": [
            "['Normal', 'pnemo', 'tb']\n"
          ]
        }
      ]
    },
    {
      "cell_type": "code",
      "source": [
        "# Normalizing the dateset \n",
        "def process(image, label):\n",
        "  image = tf.cast(image/255., tf.float32)\n",
        "  return image, label\n",
        "\n",
        "train_ds = train_ds.map(process)\n",
        "val_ds = val_ds.map(process)\n",
        "train_ds = train_ds.shuffle(2298, reshuffle_each_iteration=False)\n",
        "val_ds = val_ds.shuffle(984,reshuffle_each_iteration=False)\n",
        "\n",
        "print(tf.data.experimental.cardinality(train_ds).numpy())\n",
        "print(tf.data.experimental.cardinality(val_ds).numpy())"
      ],
      "metadata": {
        "id": "WqmT6y5nvSBN",
        "colab": {
          "base_uri": "https://localhost:8080/"
        },
        "outputId": "33d91612-09fe-4fe9-a649-dc5e811ebf1c"
      },
      "execution_count": 5,
      "outputs": [
        {
          "output_type": "stream",
          "name": "stdout",
          "text": [
            "72\n",
            "21\n"
          ]
        }
      ]
    },
    {
      "cell_type": "code",
      "source": [
        "# using prefetch\n",
        "AUTOTUNE = tf.data.AUTOTUNE\n",
        "\n",
        "train_ds = train_ds.cache().prefetch(buffer_size=AUTOTUNE)\n",
        "val_ds = val_ds.cache().prefetch(buffer_size=AUTOTUNE)"
      ],
      "metadata": {
        "id": "vnnBhi6owAeV"
      },
      "execution_count": 6,
      "outputs": []
    },
    {
      "cell_type": "code",
      "source": [
        "base_model = tf.keras.applications.InceptionV3(\n",
        "    include_top=False,\n",
        "    weights=\"imagenet\",\n",
        "    input_tensor=None,\n",
        "    input_shape=(224, 224, 3),\n",
        "    pooling=None,\n",
        "    classes=1000,\n",
        "    classifier_activation=\"softmax\",\n",
        ")\n",
        "base_model.trainable = False"
      ],
      "metadata": {
        "id": "d9AEykTqvR-y",
        "colab": {
          "base_uri": "https://localhost:8080/"
        },
        "outputId": "e2bbfcd6-4529-4c96-8a44-f1fc61e6cfe1"
      },
      "execution_count": 7,
      "outputs": [
        {
          "output_type": "stream",
          "name": "stdout",
          "text": [
            "Downloading data from https://storage.googleapis.com/tensorflow/keras-applications/inception_v3/inception_v3_weights_tf_dim_ordering_tf_kernels_notop.h5\n",
            "87910968/87910968 [==============================] - 1s 0us/step\n"
          ]
        }
      ]
    },
    {
      "cell_type": "code",
      "source": [
        "model = keras.Sequential()\n",
        "\n",
        "model.add(base_model)\n",
        "model.add(keras.layers.GlobalAveragePooling2D())\n",
        "model.add(keras.layers.Dropout(0.2))\n",
        "model.add(keras.layers.Dense(3, activation=\"softmax\"))"
      ],
      "metadata": {
        "id": "3WbJLnjSvR8U"
      },
      "execution_count": 8,
      "outputs": []
    },
    {
      "cell_type": "code",
      "source": [
        "model.summary()"
      ],
      "metadata": {
        "colab": {
          "base_uri": "https://localhost:8080/"
        },
        "id": "T142-irgvR6I",
        "outputId": "a7fd2329-e081-4327-fb17-194399d126bb"
      },
      "execution_count": 9,
      "outputs": [
        {
          "output_type": "stream",
          "name": "stdout",
          "text": [
            "Model: \"sequential\"\n",
            "_________________________________________________________________\n",
            " Layer (type)                Output Shape              Param #   \n",
            "=================================================================\n",
            " inception_v3 (Functional)   (None, 5, 5, 2048)        21802784  \n",
            "                                                                 \n",
            " global_average_pooling2d (G  (None, 2048)             0         \n",
            " lobalAveragePooling2D)                                          \n",
            "                                                                 \n",
            " dropout (Dropout)           (None, 2048)              0         \n",
            "                                                                 \n",
            " dense (Dense)               (None, 3)                 6147      \n",
            "                                                                 \n",
            "=================================================================\n",
            "Total params: 21,808,931\n",
            "Trainable params: 6,147\n",
            "Non-trainable params: 21,802,784\n",
            "_________________________________________________________________\n"
          ]
        }
      ]
    },
    {
      "cell_type": "code",
      "source": [
        "model.compile(\n",
        "    optimizer=\"adam\",\n",
        "    loss=tf.keras.losses.SparseCategoricalCrossentropy(),\n",
        "    metrics=[\"accuracy\"],\n",
        ")"
      ],
      "metadata": {
        "id": "czeUmg3NvR3g"
      },
      "execution_count": 10,
      "outputs": []
    },
    {
      "cell_type": "code",
      "source": [
        "history = model.fit(train_ds, epochs=20, validation_data=val_ds)"
      ],
      "metadata": {
        "id": "Pf5RzsYaA3Uw",
        "colab": {
          "base_uri": "https://localhost:8080/"
        },
        "outputId": "9f28bcb8-6495-4fa2-f3e5-3b326cb22631"
      },
      "execution_count": 11,
      "outputs": [
        {
          "output_type": "stream",
          "name": "stdout",
          "text": [
            "Epoch 1/20\n",
            "72/72 [==============================] - 322s 2s/step - loss: 0.8787 - accuracy: 0.5949 - val_loss: 0.7174 - val_accuracy: 0.7169\n",
            "Epoch 2/20\n",
            "72/72 [==============================] - 7s 92ms/step - loss: 0.6376 - accuracy: 0.7341 - val_loss: 0.6450 - val_accuracy: 0.7515\n",
            "Epoch 3/20\n",
            "72/72 [==============================] - 7s 92ms/step - loss: 0.5727 - accuracy: 0.7668 - val_loss: 0.6614 - val_accuracy: 0.7560\n",
            "Epoch 4/20\n",
            "72/72 [==============================] - 7s 93ms/step - loss: 0.5508 - accuracy: 0.7694 - val_loss: 0.6506 - val_accuracy: 0.7590\n",
            "Epoch 5/20\n",
            "72/72 [==============================] - 7s 92ms/step - loss: 0.5257 - accuracy: 0.7872 - val_loss: 0.6883 - val_accuracy: 0.7364\n",
            "Epoch 6/20\n",
            "72/72 [==============================] - 7s 92ms/step - loss: 0.4942 - accuracy: 0.7907 - val_loss: 0.6096 - val_accuracy: 0.7711\n",
            "Epoch 7/20\n",
            "72/72 [==============================] - 8s 107ms/step - loss: 0.4877 - accuracy: 0.7977 - val_loss: 0.6270 - val_accuracy: 0.7575\n",
            "Epoch 8/20\n",
            "72/72 [==============================] - 7s 91ms/step - loss: 0.4732 - accuracy: 0.8116 - val_loss: 0.6795 - val_accuracy: 0.7349\n",
            "Epoch 9/20\n",
            "72/72 [==============================] - 6s 90ms/step - loss: 0.4670 - accuracy: 0.8120 - val_loss: 0.6390 - val_accuracy: 0.7500\n",
            "Epoch 10/20\n",
            "72/72 [==============================] - 6s 90ms/step - loss: 0.4615 - accuracy: 0.8059 - val_loss: 0.6797 - val_accuracy: 0.7289\n",
            "Epoch 11/20\n",
            "72/72 [==============================] - 6s 90ms/step - loss: 0.4399 - accuracy: 0.8185 - val_loss: 0.5972 - val_accuracy: 0.7666\n",
            "Epoch 12/20\n",
            "72/72 [==============================] - 7s 91ms/step - loss: 0.4278 - accuracy: 0.8142 - val_loss: 0.6303 - val_accuracy: 0.7545\n",
            "Epoch 13/20\n",
            "72/72 [==============================] - 7s 91ms/step - loss: 0.4054 - accuracy: 0.8381 - val_loss: 0.6012 - val_accuracy: 0.7726\n",
            "Epoch 14/20\n",
            "72/72 [==============================] - 7s 91ms/step - loss: 0.4137 - accuracy: 0.8320 - val_loss: 0.6277 - val_accuracy: 0.7560\n",
            "Epoch 15/20\n",
            "72/72 [==============================] - 7s 91ms/step - loss: 0.4070 - accuracy: 0.8325 - val_loss: 0.6569 - val_accuracy: 0.7440\n",
            "Epoch 16/20\n",
            "72/72 [==============================] - 7s 92ms/step - loss: 0.3988 - accuracy: 0.8386 - val_loss: 0.6158 - val_accuracy: 0.7681\n",
            "Epoch 17/20\n",
            "72/72 [==============================] - 7s 92ms/step - loss: 0.3985 - accuracy: 0.8368 - val_loss: 0.6287 - val_accuracy: 0.7636\n",
            "Epoch 18/20\n",
            "72/72 [==============================] - 7s 92ms/step - loss: 0.3836 - accuracy: 0.8486 - val_loss: 0.6378 - val_accuracy: 0.7455\n",
            "Epoch 19/20\n",
            "72/72 [==============================] - 7s 91ms/step - loss: 0.4007 - accuracy: 0.8372 - val_loss: 0.6429 - val_accuracy: 0.7440\n",
            "Epoch 20/20\n",
            "72/72 [==============================] - 7s 92ms/step - loss: 0.3710 - accuracy: 0.8486 - val_loss: 0.5982 - val_accuracy: 0.7666\n"
          ]
        }
      ]
    },
    {
      "cell_type": "code",
      "source": [
        "# Plotting Accuracy\n",
        "import matplotlib.pyplot as plt\n",
        "\n",
        "plt.figure(figsize=(10, 8), dpi=80)\n",
        "plt.plot(history.history[\"accuracy\"], label=\"train\")\n",
        "plt.plot(history.history[\"val_accuracy\"], label=\"Validation\")\n",
        "plt.legend()\n",
        "plt.show()"
      ],
      "metadata": {
        "id": "jBY_zGsxA3Sg",
        "colab": {
          "base_uri": "https://localhost:8080/",
          "height": 533
        },
        "outputId": "64ad0fd4-7edc-432c-defe-de4700a7c1fa"
      },
      "execution_count": 12,
      "outputs": [
        {
          "output_type": "display_data",
          "data": {
            "text/plain": [
              "<Figure size 800x640 with 1 Axes>"
            ],
            "image/png": "[encoded data removed]"
          },
          "metadata": {
            "needs_background": "light"
          }
        }
      ]
    },
    {
      "cell_type": "code",
      "source": [
        "# Plotting Loss\n",
        "plt.figure(figsize=(10, 8), dpi=80)\n",
        "plt.plot(history.history[\"loss\"], label=\"train\")\n",
        "plt.plot(history.history[\"val_loss\"], label=\"Validation\")\n",
        "plt.legend()\n",
        "plt.show()"
      ],
      "metadata": {
        "colab": {
          "base_uri": "https://localhost:8080/",
          "height": 534
        },
        "outputId": "0981fe59-0f4f-46f9-ab24-fc7817d5fded",
        "id": "BLaSwd9KQCU_"
      },
      "execution_count": 13,
      "outputs": [
        {
          "output_type": "display_data",
          "data": {
            "text/plain": [
              "<Figure size 800x640 with 1 Axes>"
            ],
            "image/png": "[encoded data removed]"
          },
          "metadata": {
            "needs_background": "light"
          }
        }
      ]
    },
    {
      "cell_type": "code",
      "source": [],
      "metadata": {
        "id": "sV4EUbBChxVW"
      },
      "execution_count": null,
      "outputs": []
    },
    {
      "cell_type": "markdown",
      "source": [
        "## Resnet-50"
      ],
      "metadata": {
        "id": "ixw8r4WpkiDi"
      }
    },
    {
      "cell_type": "code",
      "source": [],
      "metadata": {
        "id": "FDs3yCfahxTJ"
      },
      "execution_count": null,
      "outputs": []
    },
    {
      "cell_type": "code",
      "source": [
        "from keras.applications import ResNet50\n",
        "\n",
        "#Importing resnet50,preparing the base convolution \n",
        "conv_base = ResNet50(\n",
        "    weights= 'imagenet',\n",
        "    include_top = False,\n",
        "    input_shape = (224, 224,3))\n",
        "\n",
        "conv_base.trainable = False"
      ],
      "metadata": {
        "id": "3nld_UN2brw_"
      },
      "execution_count": 20,
      "outputs": []
    },
    {
      "cell_type": "code",
      "source": [
        "#Preaparing our model \n",
        "from keras.activations import relu, linear\n",
        "from keras.layers import Dense, Flatten \n",
        "from keras.models import Sequential\n",
        "model = Sequential()\n",
        "model.add(conv_base)\n",
        "model.add(Flatten())\n",
        "model.add(Dense(512, activation='relu'))\n",
        "model.add(Dense(3, activation= 'linear'))"
      ],
      "metadata": {
        "id": "DeSTGxJRbruX"
      },
      "execution_count": 21,
      "outputs": []
    },
    {
      "cell_type": "code",
      "source": [
        "model.summary()"
      ],
      "metadata": {
        "colab": {
          "base_uri": "https://localhost:8080/"
        },
        "id": "IuOe2fSybrr_",
        "outputId": "6c9199f0-08d7-48fa-fd74-ec5addeea6aa"
      },
      "execution_count": 25,
      "outputs": [
        {
          "output_type": "stream",
          "name": "stdout",
          "text": [
            "Model: \"sequential_2\"\n",
            "_________________________________________________________________\n",
            " Layer (type)                Output Shape              Param #   \n",
            "=================================================================\n",
            " resnet50 (Functional)       (None, 7, 7, 2048)        23587712  \n",
            "                                                                 \n",
            " flatten_1 (Flatten)         (None, 100352)            0         \n",
            "                                                                 \n",
            " dense_3 (Dense)             (None, 512)               51380736  \n",
            "                                                                 \n",
            " dense_4 (Dense)             (None, 3)                 1539      \n",
            "                                                                 \n",
            "=================================================================\n",
            "Total params: 74,969,987\n",
            "Trainable params: 51,382,275\n",
            "Non-trainable params: 23,587,712\n",
            "_________________________________________________________________\n"
          ]
        }
      ]
    },
    {
      "cell_type": "code",
      "source": [
        "model.compile(loss= tf.keras.losses.SparseCategoricalCrossentropy(from_logits=True), \n",
        "              optimizer='adam',\n",
        "              metrics = ['accuracy']\n",
        "              )"
      ],
      "metadata": {
        "id": "qOPpcAgdbrp7"
      },
      "execution_count": 27,
      "outputs": []
    },
    {
      "cell_type": "code",
      "source": [
        "#Training the Data, training with gpu\n",
        "history = model.fit(train_ds, epochs =20 , validation_data = val_ds)"
      ],
      "metadata": {
        "colab": {
          "base_uri": "https://localhost:8080/"
        },
        "id": "thiQd0ghbrne",
        "outputId": "b447e354-9b92-4a78-8fdb-1bd519c8e39c"
      },
      "execution_count": 28,
      "outputs": [
        {
          "output_type": "stream",
          "name": "stdout",
          "text": [
            "Epoch 1/20\n",
            "72/72 [==============================] - 13s 142ms/step - loss: 4.6785 - accuracy: 0.4017 - val_loss: 0.9816 - val_accuracy: 0.5015\n",
            "Epoch 2/20\n",
            "72/72 [==============================] - 9s 132ms/step - loss: 0.9762 - accuracy: 0.5235 - val_loss: 0.8789 - val_accuracy: 0.6054\n",
            "Epoch 3/20\n",
            "72/72 [==============================] - 9s 130ms/step - loss: 0.9240 - accuracy: 0.5579 - val_loss: 0.8379 - val_accuracy: 0.6416\n",
            "Epoch 4/20\n",
            "72/72 [==============================] - 9s 130ms/step - loss: 0.8867 - accuracy: 0.5849 - val_loss: 0.8026 - val_accuracy: 0.6717\n",
            "Epoch 5/20\n",
            "72/72 [==============================] - 9s 128ms/step - loss: 0.8469 - accuracy: 0.6023 - val_loss: 0.7707 - val_accuracy: 0.6883\n",
            "Epoch 6/20\n",
            "72/72 [==============================] - 9s 128ms/step - loss: 0.8214 - accuracy: 0.6218 - val_loss: 0.7550 - val_accuracy: 0.6913\n",
            "Epoch 7/20\n",
            "72/72 [==============================] - 9s 128ms/step - loss: 0.7972 - accuracy: 0.6371 - val_loss: 0.7331 - val_accuracy: 0.6913\n",
            "Epoch 8/20\n",
            "72/72 [==============================] - 9s 128ms/step - loss: 0.7777 - accuracy: 0.6480 - val_loss: 0.7174 - val_accuracy: 0.6988\n",
            "Epoch 9/20\n",
            "72/72 [==============================] - 9s 129ms/step - loss: 0.7596 - accuracy: 0.6662 - val_loss: 0.7043 - val_accuracy: 0.7063\n",
            "Epoch 10/20\n",
            "72/72 [==============================] - 9s 129ms/step - loss: 0.7459 - accuracy: 0.6723 - val_loss: 0.6960 - val_accuracy: 0.7018\n",
            "Epoch 11/20\n",
            "72/72 [==============================] - 9s 129ms/step - loss: 0.7330 - accuracy: 0.6806 - val_loss: 0.6892 - val_accuracy: 0.7078\n",
            "Epoch 12/20\n",
            "72/72 [==============================] - 9s 130ms/step - loss: 0.7164 - accuracy: 0.6854 - val_loss: 0.6837 - val_accuracy: 0.7108\n",
            "Epoch 13/20\n",
            "72/72 [==============================] - 9s 129ms/step - loss: 0.7044 - accuracy: 0.6919 - val_loss: 0.6813 - val_accuracy: 0.7139\n",
            "Epoch 14/20\n",
            "72/72 [==============================] - 9s 129ms/step - loss: 0.7037 - accuracy: 0.6893 - val_loss: 0.7187 - val_accuracy: 0.7169\n",
            "Epoch 15/20\n",
            "72/72 [==============================] - 9s 128ms/step - loss: 0.7087 - accuracy: 0.6902 - val_loss: 0.7732 - val_accuracy: 0.6807\n",
            "Epoch 16/20\n",
            "72/72 [==============================] - 9s 128ms/step - loss: 0.7125 - accuracy: 0.6832 - val_loss: 0.8202 - val_accuracy: 0.6476\n",
            "Epoch 17/20\n",
            "72/72 [==============================] - 9s 129ms/step - loss: 0.6784 - accuracy: 0.6963 - val_loss: 0.7880 - val_accuracy: 0.6642\n",
            "Epoch 18/20\n",
            "72/72 [==============================] - 9s 130ms/step - loss: 0.6655 - accuracy: 0.7037 - val_loss: 0.7991 - val_accuracy: 0.6627\n",
            "Epoch 19/20\n",
            "72/72 [==============================] - 9s 130ms/step - loss: 0.6517 - accuracy: 0.7111 - val_loss: 0.7860 - val_accuracy: 0.6672\n",
            "Epoch 20/20\n",
            "72/72 [==============================] - 9s 130ms/step - loss: 0.6463 - accuracy: 0.7128 - val_loss: 0.8130 - val_accuracy: 0.6461\n"
          ]
        }
      ]
    },
    {
      "cell_type": "code",
      "source": [
        "# Plotting Accuracy\n",
        "import matplotlib.pyplot as plt\n",
        "\n",
        "plt.figure(figsize=(10, 8), dpi=80)\n",
        "plt.plot(history.history[\"accuracy\"], label=\"train\")\n",
        "plt.plot(history.history[\"val_accuracy\"], label=\"Validation\")\n",
        "plt.legend()\n",
        "plt.show()"
      ],
      "metadata": {
        "colab": {
          "base_uri": "https://localhost:8080/",
          "height": 533
        },
        "id": "1HqjrI2PbrlE",
        "outputId": "a022d0c1-5e6c-43ec-85eb-29f247a01e49"
      },
      "execution_count": 29,
      "outputs": [
        {
          "output_type": "display_data",
          "data": {
            "text/plain": [
              "<Figure size 800x640 with 1 Axes>"
            ],
            "image/png": "[encoded data removed]"
          },
          "metadata": {
            "needs_background": "light"
          }
        }
      ]
    },
    {
      "cell_type": "code",
      "source": [
        "# Plotting Loss\n",
        "plt.figure(figsize=(10, 8), dpi=80)\n",
        "plt.plot(history.history[\"loss\"], label=\"train\")\n",
        "plt.plot(history.history[\"val_loss\"], label=\"Validation\")\n",
        "plt.legend()\n",
        "plt.show()"
      ],
      "metadata": {
        "colab": {
          "base_uri": "https://localhost:8080/",
          "height": 533
        },
        "id": "972uVUIbbriy",
        "outputId": "745c2933-8442-47ff-f6c7-6d901e533dea"
      },
      "execution_count": 30,
      "outputs": [
        {
          "output_type": "display_data",
          "data": {
            "text/plain": [
              "<Figure size 800x640 with 1 Axes>"
            ],
            "image/png": "[encoded data removed]"
          },
          "metadata": {
            "needs_background": "light"
          }
        }
      ]
    },
    {
      "cell_type": "code",
      "source": [],
      "metadata": {
        "id": "zTDI3h2hhxQ_"
      },
      "execution_count": null,
      "outputs": []
    },
    {
      "cell_type": "code",
      "source": [],
      "metadata": {
        "id": "R1rEAZlvhxO7"
      },
      "execution_count": null,
      "outputs": []
    },
    {
      "cell_type": "code",
      "source": [],
      "metadata": {
        "id": "XS2xBhtEhxMi"
      },
      "execution_count": null,
      "outputs": []
    },
    {
      "cell_type": "code",
      "source": [],
      "metadata": {
        "id": "OxCLulhbhxKX"
      },
      "execution_count": null,
      "outputs": []
    },
    {
      "cell_type": "code",
      "source": [],
      "metadata": {
        "id": "S-ZJ2_ychxIK"
      },
      "execution_count": null,
      "outputs": []
    },
    {
      "cell_type": "code",
      "source": [],
      "metadata": {
        "id": "5v-V5q4-hxFX"
      },
      "execution_count": null,
      "outputs": []
    },
    {
      "cell_type": "code",
      "source": [],
      "metadata": {
        "id": "0RbSvY5-hxC1"
      },
      "execution_count": null,
      "outputs": []
    }
  ]
}